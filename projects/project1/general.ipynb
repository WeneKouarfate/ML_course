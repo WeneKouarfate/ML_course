{
 "cells": [
  {
   "cell_type": "markdown",
   "id": "ad0cf62e-6bf6-42c3-91dd-a44dce7f5fcc",
   "metadata": {},
   "source": [
    "### General notebook for the project"
   ]
  },
  {
   "cell_type": "code",
   "execution_count": 1,
   "id": "ec3d7fa4-00af-440b-b4a7-dbd4a528a29a",
   "metadata": {},
   "outputs": [],
   "source": [
    "import numpy as np\n",
    "import matplotlib.pyplot as plt\n",
    "\n",
    "import implementations\n",
    "import helpers\n",
    "\n",
    "from sys import path\n"
   ]
  },
  {
   "cell_type": "markdown",
   "id": "d101089a-a2c4-4526-a823-5eb5f87366cd",
   "metadata": {},
   "source": [
    "### Importing data (Take a lot of time...)"
   ]
  },
  {
   "cell_type": "code",
   "execution_count": 2,
   "id": "9fea0d33-92cf-4b1b-8943-0849322c3ddf",
   "metadata": {},
   "outputs": [],
   "source": [
    "#x_train, x_test, y_train, tr_id, te_id = helpers.load_csv_data(\"./data/dataset/\")\n",
    "x_train, x_test, y_train, tr_id, te_id = helpers.load_csv_data(\"./data/dataset/\", sub_sample=True)"
   ]
  },
  {
   "cell_type": "markdown",
   "id": "81d54eac-9525-4f8c-8d0d-516fc919dc28",
   "metadata": {},
   "source": [
    "### Cleaning data"
   ]
  },
  {
   "cell_type": "code",
   "execution_count": 14,
   "id": "e7483156-de10-4fdc-9fb2-e48d65cb91ea",
   "metadata": {},
   "outputs": [],
   "source": [
    "def clean_col(X):\n",
    "    \"\"\"\n",
    "    Removing columns that are empty along the whole dataset\n",
    "    \"\"\"\n",
    "    return X.all(axis=0)\n",
    "\n",
    "def clean_row(X):\n",
    "    \"\"\"\n",
    "    Removing eventual partial datas (lines)\n",
    "    \"\"\"\n",
    "    return (X != np.nan).all(axis=1)"
   ]
  },
  {
   "cell_type": "code",
   "execution_count": 16,
   "id": "c503d3fc-e0ea-414e-9057-9aa603494d35",
   "metadata": {},
   "outputs": [],
   "source": [
    "# filtering empty columns and rows\n",
    "x_train_fy = x_train[:, clean_col(x_train)]\n",
    "f_idx = clean_row(x_train_fy)\n",
    "\n",
    "x_tr, y_tr, tr_id = x_train_fy[f_idx], y_train[f_idx], tr_id[f_idx]"
   ]
  },
  {
   "cell_type": "code",
   "execution_count": 24,
   "id": "b7413e45-7db4-4de7-a2c7-d8dc4f2ac84a",
   "metadata": {},
   "outputs": [
    {
     "data": {
      "text/plain": [
       "False"
      ]
     },
     "execution_count": 24,
     "metadata": {},
     "output_type": "execute_result"
    }
   ],
   "source": [
    "(x_tr == np.nan).any()"
   ]
  },
  {
   "cell_type": "code",
   "execution_count": null,
   "id": "b6d5c4dc-9afa-4f4d-9a53-b7f038b1647b",
   "metadata": {},
   "outputs": [],
   "source": []
  }
 ],
 "metadata": {
  "kernelspec": {
   "display_name": "Python 3 (ipykernel)",
   "language": "python",
   "name": "python3"
  },
  "language_info": {
   "codemirror_mode": {
    "name": "ipython",
    "version": 3
   },
   "file_extension": ".py",
   "mimetype": "text/x-python",
   "name": "python",
   "nbconvert_exporter": "python",
   "pygments_lexer": "ipython3",
   "version": "3.12.5"
  }
 },
 "nbformat": 4,
 "nbformat_minor": 5
}
